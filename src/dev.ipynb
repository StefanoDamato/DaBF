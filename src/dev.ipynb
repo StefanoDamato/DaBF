{
 "cells": [
  {
   "cell_type": "code",
   "execution_count": 125,
   "metadata": {},
   "outputs": [],
   "source": [
    "import torch\n",
    "import torchvision\n",
    "from torch import nn\n",
    "import torch.nn.functional as F\n",
    "from tqdm import tqdm\n",
    "import math\n",
    "import matplotlib.pyplot as plt"
   ]
  },
  {
   "cell_type": "code",
   "execution_count": 126,
   "metadata": {},
   "outputs": [],
   "source": [
    "image_to_tensor = torchvision.transforms.ToTensor()\n",
    "tensor_to_image = torchvision.transforms.ToPILImage()\n",
    "\n",
    "mnist_train = torchvision.datasets.MNIST('../data/', train= True, transform=image_to_tensor, download=True)\n",
    "mnist_test = torchvision.datasets.MNIST('../data/', train= False, transform=image_to_tensor, download=True)"
   ]
  },
  {
   "cell_type": "code",
   "execution_count": 127,
   "metadata": {},
   "outputs": [],
   "source": []
  },
  {
   "cell_type": "code",
   "execution_count": 128,
   "metadata": {},
   "outputs": [],
   "source": [
    "assert len(mnist_train) == 60000\n",
    "assert len(mnist_test) == 10000\n",
    "figure, label = mnist_train[0]\n",
    "D = figure.numel()\n",
    "L = figure.shape[-1]\n",
    "assert D == 784\n",
    "assert L**2 == D"
   ]
  },
  {
   "cell_type": "code",
   "execution_count": 129,
   "metadata": {},
   "outputs": [],
   "source": [
    "trainloader = torch.utils.data.DataLoader(mnist_train, batch_size=128, shuffle=True)\n",
    "testloader = torch.utils.data.DataLoader(mnist_test, batch_size=128, shuffle=True)"
   ]
  },
  {
   "cell_type": "code",
   "execution_count": 625,
   "metadata": {},
   "outputs": [],
   "source": [
    "class FeedForward(nn.Module):\n",
    "    def __init__(self, D, nlayers =8):\n",
    "        super(FeedForward, self).__init__()\n",
    "        assert type(D) == int\n",
    "        assert type(nlayers) == int\n",
    "        self.D = D\n",
    "        self.nlayers = nlayers\n",
    "        self.first = nn.Linear(D+1, D)\n",
    "        self.linears = nn.ModuleList([nn.Linear(D, D) for i in range(nlayers-1)])     \n",
    "\n",
    "    def forward(self, x, t):\n",
    "        x = torch.cat((x, t.reshape(-1, 1)), axis=1)\n",
    "        x = self.first(x)\n",
    "        for lin in self.linears:\n",
    "            x = lin(F.relu(x))\n",
    "        return x\n",
    "    \n",
    "\n",
    "\n",
    "class TimeEmbedding(nn.Module):\n",
    "    def __init__(self, dim):\n",
    "        super().__init__()\n",
    "        assert dim%2 ==0, 'dim has to be even'\n",
    "        self.dim = dim\n",
    "\n",
    "        self.inv_freq = torch.exp(torch.arange(0, self.dim, 2, dtype=torch.float32)*(-math.log(10000)/self.dim)).to(dvc)\n",
    "\n",
    "        self.mlp = nn.Sequential(\n",
    "            nn.Linear(self.dim, self.dim),\n",
    "            nn.ReLU(),\n",
    "            nn.Linear(self.dim, self.dim)\n",
    "        )\n",
    "\n",
    "    def forward(self, time):\n",
    "        sinusoid_in = torch.ger(time.view(-1).float(), self.inv_freq)\n",
    "        time = torch.cat([sinusoid_in.sin(), sinusoid_in.cos()], dim=-1)\n",
    "        return self.mlp(time)\n",
    "    \n",
    "\n",
    "class LabelEmbedding(nn.Module):\n",
    "    def __init__(self, dim):\n",
    "        super().__init__()\n",
    "        self.dim = dim\n",
    "        self.mlp = nn.Sequential(\n",
    "            nn.Linear(10, self.dim),\n",
    "            nn.ReLU(),\n",
    "            nn.Linear(self.dim, self.dim)\n",
    "        )\n",
    "        \n",
    "    def forward(self, labels):\n",
    "        labels = F.one_hot(labels, 10).to(torch.float32)\n",
    "        return self.mlp(labels)\n",
    "    \n",
    "\n",
    "class Embedding(nn.Module):\n",
    "\n",
    "    def __init__(self, dim):\n",
    "        super().__init__()\n",
    "        self.dim = dim\n",
    "\n",
    "        self.time_emb = TimeEmbedding(dim)\n",
    "        self.label_emb = LabelEmbedding(dim)\n",
    "\n",
    "    def forward(self, l, t):\n",
    "        return self.label_emb(l) + self.time_emb(t)\n",
    "\n",
    "\n",
    "\n",
    "class ConvNetBlock(nn.Module):\n",
    "\n",
    "    def __init__(self, in_channels, out_channels):\n",
    "        super().__init__()\n",
    "        self.in_channels = in_channels\n",
    "        self.out_channels = out_channels\n",
    "        self.in_conv = nn.Conv2d(in_channels, in_channels, 7, padding=3, groups=in_channels)\n",
    "\n",
    "        self.block = nn.Sequential(\n",
    "            nn.GroupNorm(1, self.in_channels),\n",
    "            nn.Conv2d(self.in_channels, self.out_channels, 3, padding=1),\n",
    "            nn.GELU(),\n",
    "            nn.GroupNorm(1, self.out_channels),\n",
    "            nn.Conv2d(self.out_channels, self.out_channels, 3, padding=1),\n",
    "        )\n",
    "\n",
    "        self.res_conv = nn.Conv2d(self.in_channels, self.out_channels, 1) if in_channels != out_channels  else nn.Identity()\n",
    "        self.emb = Embedding(self.out_channels)\n",
    "\n",
    "    def forward(self, x, l, t):\n",
    "\n",
    "        emb = self.emb(l, t)\n",
    "        x_in = self.in_conv(x)\n",
    "\n",
    "        x_block = self.block(x_in) + emb[:,:,None,None]\n",
    "        x_res = self.res_conv(x)\n",
    "\n",
    "        return x_block + x_res\n",
    "    \n",
    "\n",
    "\n",
    "class DownBlock(nn.Module):\n",
    "\n",
    "    def __init__(self, in_channels, out_channels):\n",
    "        super().__init__()\n",
    "        self.in_channels = in_channels\n",
    "        self.out_channels = out_channels\n",
    "        \n",
    "        self.conv_list = nn.ModuleList([\n",
    "            ConvNetBlock(self.in_channels, self.out_channels),\n",
    "            ConvNetBlock(self.out_channels, self.out_channels)\n",
    "        ])\n",
    "        \n",
    "        self.down = nn.MaxPool2d(2, 2)\n",
    "        \n",
    "    def forward(self, x, l, t):\n",
    "        for block in self.conv_list:\n",
    "            x = block(x, l, t)\n",
    "        return self.down(x), x\n",
    "    \n",
    "\n",
    "class UpBlock(nn.Module):\n",
    "\n",
    "    def __init__(self, in_channels, out_channels):\n",
    "        super().__init__()\n",
    "        self.in_channels = in_channels\n",
    "        self.out_channels = out_channels\n",
    "\n",
    "        self.up = nn.Upsample(scale_factor=2)\n",
    "\n",
    "        self.conv_list = nn.ModuleList([\n",
    "            ConvNetBlock(self.in_channels*2, self.out_channels),\n",
    "            ConvNetBlock(self.out_channels, self.out_channels)\n",
    "        ])\n",
    "\n",
    "    def forward(self, x, l, t, a):\n",
    "        x = self.up(x)\n",
    "        x = torch.cat((a, x), axis=1)\n",
    "        for block in self.conv_list:\n",
    "            x = block(x, l, t)\n",
    "        return x\n",
    "\n",
    "        \n",
    "\n",
    "class GatedAttention(nn.Module):\n",
    "\n",
    "    def __init__(self, channels):\n",
    "        super().__init__()\n",
    "        self.channels = channels\n",
    "\n",
    "        self.conv = nn.Conv2d(self.channels, self.channels, 2, 2)\n",
    "\n",
    "        self.gate = nn.Sequential(\n",
    "            nn.ReLU(),\n",
    "            nn.Conv2d(self.channels, 1, 3, padding=1),\n",
    "            nn.Sigmoid(),\n",
    "            nn.Upsample(scale_factor=2)\n",
    "        )\n",
    "\n",
    "    def forward(self, x, g):\n",
    "        return self.gate(self.conv(x) + g)*x\n",
    "    \n",
    "\n",
    "class MultiHeadAttention(nn.Module):\n",
    "\n",
    "    def __init__(self, dim):\n",
    "        super().__init__()\n",
    "        self.dim = dim\n",
    "        self.mha = torch.nn.MultiheadAttention(embed_dim=dim, num_heads=4, batch_first=True)\n",
    "\n",
    "    def forward(self, x):\n",
    "\n",
    "        B, S = x.shape[0], x.shape[-1]\n",
    "        x = torch.swapaxes(x.reshape(B, self.dim, -1), 1, 2)\n",
    "        x, _ = self.mha(x,x,x)\n",
    "        return torch.swapaxes(x, 1,2).reshape((B, self.dim, -1, S))\n",
    "    \n",
    "        \n",
    "\n",
    "class UNet(nn.Module):\n",
    "    \n",
    "    def __init__(self, dim):\n",
    "        super().__init__()\n",
    "\n",
    "        self.dim = dim\n",
    "\n",
    "        self.input = nn.Sequential(\n",
    "            nn.InstanceNorm2d(1),\n",
    "            nn.Conv2d(1, self.dim, 3, padding=1),\n",
    "            nn.ReLU()\n",
    "        )\n",
    "\n",
    "        self.down = nn.ModuleList([\n",
    "            DownBlock(self.dim, self.dim*2),\n",
    "            DownBlock(self.dim*2, self.dim*4)\n",
    "        ])\n",
    "\n",
    "        self.bottom = ConvNetBlock(dim*4, dim*4)\n",
    "\n",
    "        self.att = nn.ModuleList([\n",
    "            GatedAttention(dim*4),\n",
    "            GatedAttention(dim*2)\n",
    "        ])\n",
    "\n",
    "        self.up = nn.ModuleList([\n",
    "            UpBlock(self.dim*4, self.dim*2),\n",
    "            UpBlock(self.dim*2, self.dim)\n",
    "        ])\n",
    "\n",
    "        self.top = ConvNetBlock(self.dim, self.dim)\n",
    "        \n",
    "        self.output = nn.Conv2d(self.dim, 1, 3, padding=1)\n",
    "    \n",
    "    def forward(self, x, l, t):\n",
    "\n",
    "        residuals = []\n",
    "\n",
    "        x = self.input(x)\n",
    "\n",
    "        for down_block in self.down:\n",
    "            x, res = down_block(x, l, t)\n",
    "            residuals.append(res)\n",
    "\n",
    "        x = self.bottom(x, l, t)\n",
    "\n",
    "        for attention, block in zip(self.att, self.up):\n",
    "            res = residuals.pop()\n",
    "            a = attention(res, x)\n",
    "            x = block(x, l, t, a)\n",
    "\n",
    "        x = self.top(x, l, t)\n",
    "\n",
    "        x = self.output(x)\n",
    "        \n",
    "        return x\n",
    "\n",
    "\n",
    "class Diffusion():\n",
    "    def __init__(self, T, S, betas, UNet_dim = 16):\n",
    "        assert type(T) == int\n",
    "        self.T = T\n",
    "        self.S = S\n",
    "        self.betas = torch.tensor(betas).repeat(T) if type(betas) == float else betas\n",
    "        self.alphas = 1-self.betas.to(dvc)\n",
    "        self.alphas_hat = torch.cumprod(self.alphas, axis=0).to(dvc)\n",
    "        self.sigma = 0.02\n",
    "        self.normal = torch.distributions.Normal(torch.tensor([0.]), torch.tensor([1.]))\n",
    "        self.UNet_dim = UNet_dim\n",
    "        self.UNet = UNet(self.UNet_dim).to(dvc)\n",
    "\n",
    "    \n",
    "    def sample_eps(self, size):\n",
    "        return self.normal.sample(size).to(dvc)\n",
    "        \n",
    "\n",
    "    def sample_t(self, B, all_equal = True):\n",
    "        if all_equal:\n",
    "            t = torch.randint(0, self.T, torch.Size([1]), device=dvc).repeat(B)\n",
    "        else:\n",
    "            t = torch.randint(0, self.T, torch.Size([B]), device = dvc)\n",
    "        return t\n",
    "    \n",
    "    def load_UNet(self, path):\n",
    "        self.UNet.load_state_dict(torch.load(path))\n",
    "\n",
    "\n",
    "    def generate(self, num, save_steps = []):\n",
    "\n",
    "        assert type(num) == int, \"'num' has to be an integer\"\n",
    "        num, B, S = torch.tensor([num], device=dvc), 1, self.S\n",
    "\n",
    "\n",
    "        process = []\n",
    "        self.UNet.eval()\n",
    "\n",
    "\n",
    "\n",
    "\n",
    "        xT = self.sample_eps(torch.Size([B*self.L**2])).reshape((B,1,self.L,self.L))\n",
    "        if len(save_steps) > 0:\n",
    "            process.append(torch.squeeze(xT.detach().to('cpu')))\n",
    "\n",
    "        xt = xT\n",
    "\n",
    "        for t in reversed(range(self.T)):\n",
    "\n",
    "            z = self.sample_eps(torch.Size([B*S**2])).reshape((B,1,S,S)) if t>=1 else 0\n",
    "            alpha, alpha_hat, sigma = self.alphas[t], self.alphas_hat[t], self.sigma\n",
    "\n",
    "            eps_pred = self.UNet(xt, num, torch.tensor([t], device=dvc).repeat(B))\n",
    "\n",
    "            xt = (xt - eps_pred*(1-alpha)/torch.sqrt(1-alpha_hat))/torch.sqrt(alpha) + 0.02*z\n",
    "\n",
    "            if t in save_steps:\n",
    "                process.append(torch.squeeze(xt.detach().to('cpu')))\n",
    "\n",
    "        x0 = torch.squeeze(xt.detach().to('cpu'))\n",
    "        if len(save_steps) > 0:\n",
    "            process.append(x0)\n",
    "\n",
    "        return x0, process\n",
    "    \n",
    "\n",
    "\n",
    "    def train(self, epochs, optimizer, scheduler, verbose=True):\n",
    "        \n",
    "        S = self.S\n",
    "        alphas_hat_array = self.alphas_hat.repeat_interleave(S**2).view(-1,1,S,S)\n",
    "\n",
    "        L2_loss = torch.nn.MSELoss(reduction='sum')\n",
    "\n",
    "        for epoch in range(epochs):\n",
    "            epoch_loss = 0\n",
    "\n",
    "            for x0, l in tqdm(trainloader):\n",
    "\n",
    "                optimizer.zero_grad()\n",
    "\n",
    "                B = x0.shape[0]\n",
    "                x0, l = x0.to(dvc), l.to(dvc)\n",
    "\n",
    "                t = self.sample_t(B, all_equal=False)\n",
    "                eps = self.sample_eps(torch.Size([x0.numel()])).reshape_as(x0)\n",
    "                \n",
    "                alphas_hat = alphas_hat_array[t]\n",
    "                x = x0*torch.sqrt(alphas_hat) + eps*torch.sqrt(1-alphas_hat)\n",
    "\n",
    "                eps_pred  = self.UNet(x, l, t)\n",
    "                loss = L2_loss(eps, eps_pred)\n",
    "\n",
    "                loss.backward()\n",
    "                optimizer.step()\n",
    "\n",
    "                epoch_loss += loss.item()\n",
    "            \n",
    "            scheduler.step()\n",
    "\n",
    "            if verbose:\n",
    "                print(f'epoch: {epoch+1} \\t loss: {epoch_loss}')\n",
    "        \n",
    "        \n",
    "\n",
    "\n",
    "def plot_num(x, cmap='grey'):\n",
    "    \n",
    "    assert x.ndim == 2\n",
    "    fig = plt.imshow(x, cmap=cmap)\n",
    "    plt.axis('off')\n",
    "\n",
    "    return fig\n",
    "\n",
    "def plot_process(x, space=False, cmap='grey'): \n",
    "    fig, axes = plt.subplots(1, len(x), figsize=(2*len(x), len(x)))\n",
    "\n",
    "    for i, ax in enumerate(axes):\n",
    "        ax.imshow(x[i], cmap=cmap)\n",
    "        ax.axis('off')\n",
    "        if space:\n",
    "            plt.subplots_adjust(wspace=0, hspace=0, left=0, right=1, bottom=0, top=1)\n"
   ]
  },
  {
   "cell_type": "code",
   "execution_count": 612,
   "metadata": {},
   "outputs": [
    {
     "data": {
      "text/plain": [
       "'../models/UNet_dim16_2024-07-04-12-28.pth'"
      ]
     },
     "execution_count": 612,
     "metadata": {},
     "output_type": "execute_result"
    }
   ],
   "source": [
    "epochs = 100\n",
    "loss_hist = []\n",
    "\n",
    "diff = Diffusion(T = 100, L = 28, betas = torch.linspace(1e-04, 2e-02, 100), UNet_dim=16)\n",
    "\n",
    "optimizer = torch.optim.Adam(diff.UNet.parameters(), lr = 1e-03)\n",
    "scheduler = torch.optim.lr_scheduler.SequentialLR(optimizer, [\n",
    "    torch.optim.lr_scheduler.CosineAnnealingLR(optimizer, 50, 1e-04),\n",
    "    torch.optim.lr_scheduler.LinearLR(optimizer, .1, .01, 50)], [50])\n",
    "L2_loss = torch.nn.MSELoss(reduction='sum')\n",
    "\n",
    "\n",
    "os.path.join(os.path.pardir, 'models', model_name)"
   ]
  },
  {
   "cell_type": "code",
   "execution_count": 613,
   "metadata": {},
   "outputs": [],
   "source": [
    "model_name = 'UNet_dim16_2024-07-04-12-28.pth'\n",
    "path = os.path.join(os.path.pardir, 'models', model_name)\n",
    "\n",
    "diff.load_UNet(path)\n"
   ]
  },
  {
   "cell_type": "code",
   "execution_count": 614,
   "metadata": {},
   "outputs": [],
   "source": [
    "x0, process = diff.generate(9, [i*10 for i in range(1, 10)])"
   ]
  },
  {
   "cell_type": "code",
   "execution_count": 615,
   "metadata": {},
   "outputs": [
    {
     "data": {
      "text/plain": [
       "<matplotlib.image.AxesImage at 0x897e22210>"
      ]
     },
     "execution_count": 615,
     "metadata": {},
     "output_type": "execute_result"
    },
    {
     "data": {
      "image/png": "[encoded data removed]",
      "text/plain": [
       "<Figure size 640x480 with 1 Axes>"
      ]
     },
     "metadata": {},
     "output_type": "display_data"
    }
   ],
   "source": [
    "plot_num(x0)\n"
   ]
  },
  {
   "cell_type": "code",
   "execution_count": 616,
   "metadata": {},
   "outputs": [
    {
     "data": {
      "image/png": "[encoded data removed]",
      "text/plain": [
       "<Figure size 2200x1100 with 11 Axes>"
      ]
     },
     "metadata": {},
     "output_type": "display_data"
    }
   ],
   "source": [
    "plot_process(process)"
   ]
  },
  {
   "cell_type": "code",
   "execution_count": null,
   "metadata": {},
   "outputs": [],
   "source": []
  },
  {
   "cell_type": "code",
   "execution_count": 621,
   "metadata": {},
   "outputs": [
    {
     "name": "stderr",
     "output_type": "stream",
     "text": [
      "  5%|▍         | 23/469 [00:03<01:13,  6.03it/s]\n"
     ]
    },
    {
     "ename": "KeyboardInterrupt",
     "evalue": "",
     "output_type": "error",
     "traceback": [
      "\u001b[0;31m---------------------------------------------------------------------------\u001b[0m",
      "\u001b[0;31mKeyboardInterrupt\u001b[0m                         Traceback (most recent call last)",
      "\u001b[1;32m/Users/stefano.damato/Codebase/DaBF/src/dev.ipynb Cell 13\u001b[0m line \u001b[0;36m2\n\u001b[1;32m     <a href='vscode-notebook-cell:/Users/stefano.damato/Codebase/DaBF/src/dev.ipynb#X10sZmlsZQ%3D%3D?line=19'>20</a>\u001b[0m eps_pred  \u001b[39m=\u001b[39m eps_theta(x, l, t)\n\u001b[1;32m     <a href='vscode-notebook-cell:/Users/stefano.damato/Codebase/DaBF/src/dev.ipynb#X10sZmlsZQ%3D%3D?line=20'>21</a>\u001b[0m loss \u001b[39m=\u001b[39m L2_loss(eps, eps_pred)\n\u001b[0;32m---> <a href='vscode-notebook-cell:/Users/stefano.damato/Codebase/DaBF/src/dev.ipynb#X10sZmlsZQ%3D%3D?line=22'>23</a>\u001b[0m loss\u001b[39m.\u001b[39;49mbackward()\n\u001b[1;32m     <a href='vscode-notebook-cell:/Users/stefano.damato/Codebase/DaBF/src/dev.ipynb#X10sZmlsZQ%3D%3D?line=23'>24</a>\u001b[0m optimizer\u001b[39m.\u001b[39mstep()\n\u001b[1;32m     <a href='vscode-notebook-cell:/Users/stefano.damato/Codebase/DaBF/src/dev.ipynb#X10sZmlsZQ%3D%3D?line=25'>26</a>\u001b[0m epoch_loss \u001b[39m+\u001b[39m\u001b[39m=\u001b[39m loss\u001b[39m.\u001b[39mitem()\n",
      "File \u001b[0;32m~/anaconda3/envs/dabf/lib/python3.11/site-packages/torch/_tensor.py:525\u001b[0m, in \u001b[0;36mTensor.backward\u001b[0;34m(self, gradient, retain_graph, create_graph, inputs)\u001b[0m\n\u001b[1;32m    515\u001b[0m \u001b[39mif\u001b[39;00m has_torch_function_unary(\u001b[39mself\u001b[39m):\n\u001b[1;32m    516\u001b[0m     \u001b[39mreturn\u001b[39;00m handle_torch_function(\n\u001b[1;32m    517\u001b[0m         Tensor\u001b[39m.\u001b[39mbackward,\n\u001b[1;32m    518\u001b[0m         (\u001b[39mself\u001b[39m,),\n\u001b[0;32m   (...)\u001b[0m\n\u001b[1;32m    523\u001b[0m         inputs\u001b[39m=\u001b[39minputs,\n\u001b[1;32m    524\u001b[0m     )\n\u001b[0;32m--> 525\u001b[0m torch\u001b[39m.\u001b[39;49mautograd\u001b[39m.\u001b[39;49mbackward(\n\u001b[1;32m    526\u001b[0m     \u001b[39mself\u001b[39;49m, gradient, retain_graph, create_graph, inputs\u001b[39m=\u001b[39;49minputs\n\u001b[1;32m    527\u001b[0m )\n",
      "File \u001b[0;32m~/anaconda3/envs/dabf/lib/python3.11/site-packages/torch/autograd/__init__.py:267\u001b[0m, in \u001b[0;36mbackward\u001b[0;34m(tensors, grad_tensors, retain_graph, create_graph, grad_variables, inputs)\u001b[0m\n\u001b[1;32m    262\u001b[0m     retain_graph \u001b[39m=\u001b[39m create_graph\n\u001b[1;32m    264\u001b[0m \u001b[39m# The reason we repeat the same comment below is that\u001b[39;00m\n\u001b[1;32m    265\u001b[0m \u001b[39m# some Python versions print out the first line of a multi-line function\u001b[39;00m\n\u001b[1;32m    266\u001b[0m \u001b[39m# calls in the traceback and some print out the last line\u001b[39;00m\n\u001b[0;32m--> 267\u001b[0m _engine_run_backward(\n\u001b[1;32m    268\u001b[0m     tensors,\n\u001b[1;32m    269\u001b[0m     grad_tensors_,\n\u001b[1;32m    270\u001b[0m     retain_graph,\n\u001b[1;32m    271\u001b[0m     create_graph,\n\u001b[1;32m    272\u001b[0m     inputs,\n\u001b[1;32m    273\u001b[0m     allow_unreachable\u001b[39m=\u001b[39;49m\u001b[39mTrue\u001b[39;49;00m,\n\u001b[1;32m    274\u001b[0m     accumulate_grad\u001b[39m=\u001b[39;49m\u001b[39mTrue\u001b[39;49;00m,\n\u001b[1;32m    275\u001b[0m )\n",
      "File \u001b[0;32m~/anaconda3/envs/dabf/lib/python3.11/site-packages/torch/autograd/graph.py:744\u001b[0m, in \u001b[0;36m_engine_run_backward\u001b[0;34m(t_outputs, *args, **kwargs)\u001b[0m\n\u001b[1;32m    742\u001b[0m     unregister_hooks \u001b[39m=\u001b[39m _register_logging_hooks_on_whole_graph(t_outputs)\n\u001b[1;32m    743\u001b[0m \u001b[39mtry\u001b[39;00m:\n\u001b[0;32m--> 744\u001b[0m     \u001b[39mreturn\u001b[39;00m Variable\u001b[39m.\u001b[39;49m_execution_engine\u001b[39m.\u001b[39;49mrun_backward(  \u001b[39m# Calls into the C++ engine to run the backward pass\u001b[39;49;00m\n\u001b[1;32m    745\u001b[0m         t_outputs, \u001b[39m*\u001b[39;49margs, \u001b[39m*\u001b[39;49m\u001b[39m*\u001b[39;49mkwargs\n\u001b[1;32m    746\u001b[0m     )  \u001b[39m# Calls into the C++ engine to run the backward pass\u001b[39;00m\n\u001b[1;32m    747\u001b[0m \u001b[39mfinally\u001b[39;00m:\n\u001b[1;32m    748\u001b[0m     \u001b[39mif\u001b[39;00m attach_logging_hooks:\n",
      "\u001b[0;31mKeyboardInterrupt\u001b[0m: "
     ]
    }
   ],
   "source": [
    "alphas_hat_array = diff.alphas_hat.repeat_interleave(L*L).view(-1,1,L,L)\n",
    "\n",
    "for epoch in range(epochs):\n",
    "    epoch_loss = 0\n",
    "\n",
    "    for x0, l in tqdm(trainloader):\n",
    "\n",
    "        optimizer.zero_grad()\n",
    "\n",
    "        B = x0.shape[0]\n",
    "\n",
    "        x0, l = x0.to(dvc), l.to(dvc)\n",
    "\n",
    "        t = diff.sample_t(B, all_equal=False)\n",
    "        eps = diff.sample_eps(torch.Size([x0.numel()])).reshape_as(x0)\n",
    "        \n",
    "        alphas_hat = alphas_hat_array[t]\n",
    "        x = x0*torch.sqrt(alphas_hat) + eps*torch.sqrt(1-alphas_hat)\n",
    "\n",
    "        eps_pred  = eps_theta(x, l, t)\n",
    "        loss = L2_loss(eps, eps_pred)\n",
    "\n",
    "        loss.backward()\n",
    "        optimizer.step()\n",
    "\n",
    "        epoch_loss += loss.item()\n",
    "    \n",
    "    scheduler.step()\n",
    "\n",
    "    print(f'epoch: {epoch+1} \\t loss: {epoch_loss}')\n",
    "    loss_hist.append(epoch_loss)"
   ]
  },
  {
   "cell_type": "code",
   "execution_count": null,
   "metadata": {},
   "outputs": [
    {
     "data": {
      "text/plain": [
       "<All keys matched successfully>"
      ]
     },
     "execution_count": 90,
     "metadata": {},
     "output_type": "execute_result"
    }
   ],
   "source": [
    "diff.unet.load_state_dict(torch.load(os.path.join(os.path.pardir, 'models', model_name)))"
   ]
  },
  {
   "cell_type": "code",
   "execution_count": 629,
   "metadata": {},
   "outputs": [
    {
     "name": "stderr",
     "output_type": "stream",
     "text": [
      "100%|██████████| 469/469 [02:32<00:00,  3.08it/s]\n"
     ]
    },
    {
     "name": "stdout",
     "output_type": "stream",
     "text": [
      "epoch: 1 \t loss: 9297914.193847656\n"
     ]
    },
    {
     "name": "stderr",
     "output_type": "stream",
     "text": [
      "100%|██████████| 469/469 [02:32<00:00,  3.08it/s]\n"
     ]
    },
    {
     "name": "stdout",
     "output_type": "stream",
     "text": [
      "epoch: 2 \t loss: 3451823.6752929688\n"
     ]
    },
    {
     "name": "stderr",
     "output_type": "stream",
     "text": [
      "100%|██████████| 469/469 [02:32<00:00,  3.08it/s]\n"
     ]
    },
    {
     "name": "stdout",
     "output_type": "stream",
     "text": [
      "epoch: 3 \t loss: 3006718.7348632812\n"
     ]
    },
    {
     "name": "stderr",
     "output_type": "stream",
     "text": [
      "100%|██████████| 469/469 [02:32<00:00,  3.08it/s]\n"
     ]
    },
    {
     "name": "stdout",
     "output_type": "stream",
     "text": [
      "epoch: 4 \t loss: 2789019.55078125\n"
     ]
    },
    {
     "name": "stderr",
     "output_type": "stream",
     "text": [
      "100%|██████████| 469/469 [02:31<00:00,  3.09it/s]\n"
     ]
    },
    {
     "name": "stdout",
     "output_type": "stream",
     "text": [
      "epoch: 5 \t loss: 2631359.4912109375\n"
     ]
    },
    {
     "name": "stderr",
     "output_type": "stream",
     "text": [
      "100%|██████████| 469/469 [02:31<00:00,  3.09it/s]\n"
     ]
    },
    {
     "name": "stdout",
     "output_type": "stream",
     "text": [
      "epoch: 6 \t loss: 2498299.844970703\n"
     ]
    },
    {
     "name": "stderr",
     "output_type": "stream",
     "text": [
      "100%|██████████| 469/469 [02:31<00:00,  3.09it/s]\n"
     ]
    },
    {
     "name": "stdout",
     "output_type": "stream",
     "text": [
      "epoch: 7 \t loss: 2397185.5173339844\n"
     ]
    },
    {
     "name": "stderr",
     "output_type": "stream",
     "text": [
      "100%|██████████| 469/469 [02:32<00:00,  3.08it/s]\n"
     ]
    },
    {
     "name": "stdout",
     "output_type": "stream",
     "text": [
      "epoch: 8 \t loss: 2328280.792236328\n"
     ]
    },
    {
     "name": "stderr",
     "output_type": "stream",
     "text": [
      "100%|██████████| 469/469 [02:32<00:00,  3.09it/s]\n"
     ]
    },
    {
     "name": "stdout",
     "output_type": "stream",
     "text": [
      "epoch: 9 \t loss: 2277337.541015625\n"
     ]
    },
    {
     "name": "stderr",
     "output_type": "stream",
     "text": [
      "100%|██████████| 469/469 [02:32<00:00,  3.08it/s]\n"
     ]
    },
    {
     "name": "stdout",
     "output_type": "stream",
     "text": [
      "epoch: 10 \t loss: 2221064.8979492188\n"
     ]
    },
    {
     "name": "stderr",
     "output_type": "stream",
     "text": [
      "100%|██████████| 469/469 [02:32<00:00,  3.08it/s]\n"
     ]
    },
    {
     "name": "stdout",
     "output_type": "stream",
     "text": [
      "epoch: 11 \t loss: 2199569.529296875\n"
     ]
    },
    {
     "name": "stderr",
     "output_type": "stream",
     "text": [
      "100%|██████████| 469/469 [02:32<00:00,  3.09it/s]\n"
     ]
    },
    {
     "name": "stdout",
     "output_type": "stream",
     "text": [
      "epoch: 12 \t loss: 2141375.749267578\n"
     ]
    },
    {
     "name": "stderr",
     "output_type": "stream",
     "text": [
      "100%|██████████| 469/469 [02:32<00:00,  3.08it/s]\n"
     ]
    },
    {
     "name": "stdout",
     "output_type": "stream",
     "text": [
      "epoch: 13 \t loss: 2134687.126953125\n"
     ]
    },
    {
     "name": "stderr",
     "output_type": "stream",
     "text": [
      "100%|██████████| 469/469 [02:31<00:00,  3.09it/s]\n"
     ]
    },
    {
     "name": "stdout",
     "output_type": "stream",
     "text": [
      "epoch: 14 \t loss: 2084353.3051757812\n"
     ]
    },
    {
     "name": "stderr",
     "output_type": "stream",
     "text": [
      "100%|██████████| 469/469 [02:32<00:00,  3.08it/s]\n"
     ]
    },
    {
     "name": "stdout",
     "output_type": "stream",
     "text": [
      "epoch: 15 \t loss: 2077078.5905761719\n"
     ]
    },
    {
     "name": "stderr",
     "output_type": "stream",
     "text": [
      "100%|██████████| 469/469 [02:32<00:00,  3.09it/s]\n"
     ]
    },
    {
     "name": "stdout",
     "output_type": "stream",
     "text": [
      "epoch: 16 \t loss: 2048680.1997070312\n"
     ]
    },
    {
     "name": "stderr",
     "output_type": "stream",
     "text": [
      "100%|██████████| 469/469 [02:31<00:00,  3.09it/s]\n"
     ]
    },
    {
     "name": "stdout",
     "output_type": "stream",
     "text": [
      "epoch: 17 \t loss: 2035878.5380859375\n"
     ]
    },
    {
     "name": "stderr",
     "output_type": "stream",
     "text": [
      "100%|██████████| 469/469 [02:31<00:00,  3.09it/s]\n"
     ]
    },
    {
     "name": "stdout",
     "output_type": "stream",
     "text": [
      "epoch: 18 \t loss: 2029701.4389648438\n"
     ]
    },
    {
     "name": "stderr",
     "output_type": "stream",
     "text": [
      "100%|██████████| 469/469 [02:31<00:00,  3.09it/s]\n"
     ]
    },
    {
     "name": "stdout",
     "output_type": "stream",
     "text": [
      "epoch: 19 \t loss: 2003455.3095703125\n"
     ]
    },
    {
     "name": "stderr",
     "output_type": "stream",
     "text": [
      "100%|██████████| 469/469 [02:31<00:00,  3.09it/s]\n"
     ]
    },
    {
     "name": "stdout",
     "output_type": "stream",
     "text": [
      "epoch: 20 \t loss: 1990376.4899902344\n"
     ]
    },
    {
     "name": "stderr",
     "output_type": "stream",
     "text": [
      "100%|██████████| 469/469 [02:31<00:00,  3.09it/s]\n"
     ]
    },
    {
     "name": "stdout",
     "output_type": "stream",
     "text": [
      "epoch: 21 \t loss: 1988060.8571777344\n"
     ]
    },
    {
     "name": "stderr",
     "output_type": "stream",
     "text": [
      "100%|██████████| 469/469 [02:32<00:00,  3.09it/s]\n"
     ]
    },
    {
     "name": "stdout",
     "output_type": "stream",
     "text": [
      "epoch: 22 \t loss: 1973586.837890625\n"
     ]
    },
    {
     "name": "stderr",
     "output_type": "stream",
     "text": [
      "100%|██████████| 469/469 [02:32<00:00,  3.08it/s]\n"
     ]
    },
    {
     "name": "stdout",
     "output_type": "stream",
     "text": [
      "epoch: 23 \t loss: 1968187.9348144531\n"
     ]
    },
    {
     "name": "stderr",
     "output_type": "stream",
     "text": [
      "100%|██████████| 469/469 [02:32<00:00,  3.09it/s]\n"
     ]
    },
    {
     "name": "stdout",
     "output_type": "stream",
     "text": [
      "epoch: 24 \t loss: 1944463.9353027344\n"
     ]
    },
    {
     "name": "stderr",
     "output_type": "stream",
     "text": [
      "100%|██████████| 469/469 [02:31<00:00,  3.09it/s]\n"
     ]
    },
    {
     "name": "stdout",
     "output_type": "stream",
     "text": [
      "epoch: 25 \t loss: 1932192.9416503906\n"
     ]
    },
    {
     "name": "stderr",
     "output_type": "stream",
     "text": [
      "100%|██████████| 469/469 [02:32<00:00,  3.08it/s]\n"
     ]
    },
    {
     "name": "stdout",
     "output_type": "stream",
     "text": [
      "epoch: 26 \t loss: 1937811.8041992188\n"
     ]
    },
    {
     "name": "stderr",
     "output_type": "stream",
     "text": [
      "100%|██████████| 469/469 [02:32<00:00,  3.08it/s]\n"
     ]
    },
    {
     "name": "stdout",
     "output_type": "stream",
     "text": [
      "epoch: 27 \t loss: 1919779.7504882812\n"
     ]
    },
    {
     "name": "stderr",
     "output_type": "stream",
     "text": [
      "100%|██████████| 469/469 [02:32<00:00,  3.08it/s]\n"
     ]
    },
    {
     "name": "stdout",
     "output_type": "stream",
     "text": [
      "epoch: 28 \t loss: 1912310.6669921875\n"
     ]
    },
    {
     "name": "stderr",
     "output_type": "stream",
     "text": [
      "100%|██████████| 469/469 [02:32<00:00,  3.08it/s]\n"
     ]
    },
    {
     "name": "stdout",
     "output_type": "stream",
     "text": [
      "epoch: 29 \t loss: 1906730.4099121094\n"
     ]
    },
    {
     "name": "stderr",
     "output_type": "stream",
     "text": [
      "100%|██████████| 469/469 [02:32<00:00,  3.08it/s]\n"
     ]
    },
    {
     "name": "stdout",
     "output_type": "stream",
     "text": [
      "epoch: 30 \t loss: 1902866.4765625\n"
     ]
    },
    {
     "name": "stderr",
     "output_type": "stream",
     "text": [
      "100%|██████████| 469/469 [02:32<00:00,  3.08it/s]\n"
     ]
    },
    {
     "name": "stdout",
     "output_type": "stream",
     "text": [
      "epoch: 31 \t loss: 1886457.845703125\n"
     ]
    },
    {
     "name": "stderr",
     "output_type": "stream",
     "text": [
      "100%|██████████| 469/469 [02:32<00:00,  3.08it/s]\n"
     ]
    },
    {
     "name": "stdout",
     "output_type": "stream",
     "text": [
      "epoch: 32 \t loss: 1883780.7856445312\n"
     ]
    },
    {
     "name": "stderr",
     "output_type": "stream",
     "text": [
      "100%|██████████| 469/469 [02:32<00:00,  3.08it/s]\n"
     ]
    },
    {
     "name": "stdout",
     "output_type": "stream",
     "text": [
      "epoch: 33 \t loss: 1877709.5654296875\n"
     ]
    },
    {
     "name": "stderr",
     "output_type": "stream",
     "text": [
      "100%|██████████| 469/469 [02:32<00:00,  3.09it/s]\n"
     ]
    },
    {
     "name": "stdout",
     "output_type": "stream",
     "text": [
      "epoch: 34 \t loss: 1864868.1557617188\n"
     ]
    },
    {
     "name": "stderr",
     "output_type": "stream",
     "text": [
      "100%|██████████| 469/469 [02:32<00:00,  3.08it/s]\n"
     ]
    },
    {
     "name": "stdout",
     "output_type": "stream",
     "text": [
      "epoch: 35 \t loss: 1848577.9665527344\n"
     ]
    },
    {
     "name": "stderr",
     "output_type": "stream",
     "text": [
      "100%|██████████| 469/469 [02:32<00:00,  3.08it/s]\n"
     ]
    },
    {
     "name": "stdout",
     "output_type": "stream",
     "text": [
      "epoch: 36 \t loss: 1861248.6953125\n"
     ]
    },
    {
     "name": "stderr",
     "output_type": "stream",
     "text": [
      "100%|██████████| 469/469 [02:32<00:00,  3.08it/s]\n"
     ]
    },
    {
     "name": "stdout",
     "output_type": "stream",
     "text": [
      "epoch: 37 \t loss: 1853351.3820800781\n"
     ]
    },
    {
     "name": "stderr",
     "output_type": "stream",
     "text": [
      "100%|██████████| 469/469 [2:10:09<00:00, 16.65s/it]   \n"
     ]
    },
    {
     "name": "stdout",
     "output_type": "stream",
     "text": [
      "epoch: 38 \t loss: 1851786.1042480469\n"
     ]
    },
    {
     "name": "stderr",
     "output_type": "stream",
     "text": [
      "100%|██████████| 469/469 [02:31<00:00,  3.09it/s]\n"
     ]
    },
    {
     "name": "stdout",
     "output_type": "stream",
     "text": [
      "epoch: 39 \t loss: 1845442.4311523438\n"
     ]
    },
    {
     "name": "stderr",
     "output_type": "stream",
     "text": [
      "100%|██████████| 469/469 [02:33<00:00,  3.05it/s]\n"
     ]
    },
    {
     "name": "stdout",
     "output_type": "stream",
     "text": [
      "epoch: 40 \t loss: 1845902.8415527344\n"
     ]
    },
    {
     "name": "stderr",
     "output_type": "stream",
     "text": [
      "100%|██████████| 469/469 [02:37<00:00,  2.99it/s]\n"
     ]
    },
    {
     "name": "stdout",
     "output_type": "stream",
     "text": [
      "epoch: 41 \t loss: 1835960.5024414062\n"
     ]
    },
    {
     "name": "stderr",
     "output_type": "stream",
     "text": [
      "100%|██████████| 469/469 [02:41<00:00,  2.91it/s]\n"
     ]
    },
    {
     "name": "stdout",
     "output_type": "stream",
     "text": [
      "epoch: 42 \t loss: 1817560.5502929688\n"
     ]
    },
    {
     "name": "stderr",
     "output_type": "stream",
     "text": [
      "100%|██████████| 469/469 [02:43<00:00,  2.86it/s]\n"
     ]
    },
    {
     "name": "stdout",
     "output_type": "stream",
     "text": [
      "epoch: 43 \t loss: 1818650.2036132812\n"
     ]
    },
    {
     "name": "stderr",
     "output_type": "stream",
     "text": [
      "100%|██████████| 469/469 [02:44<00:00,  2.85it/s]\n"
     ]
    },
    {
     "name": "stdout",
     "output_type": "stream",
     "text": [
      "epoch: 44 \t loss: 1819112.9038085938\n"
     ]
    },
    {
     "name": "stderr",
     "output_type": "stream",
     "text": [
      "100%|██████████| 469/469 [02:44<00:00,  2.86it/s]\n"
     ]
    },
    {
     "name": "stdout",
     "output_type": "stream",
     "text": [
      "epoch: 45 \t loss: 1815829.8615722656\n"
     ]
    },
    {
     "name": "stderr",
     "output_type": "stream",
     "text": [
      "100%|██████████| 469/469 [02:46<00:00,  2.82it/s]\n"
     ]
    },
    {
     "name": "stdout",
     "output_type": "stream",
     "text": [
      "epoch: 46 \t loss: 1816479.7897949219\n"
     ]
    },
    {
     "name": "stderr",
     "output_type": "stream",
     "text": [
      "100%|██████████| 469/469 [02:42<00:00,  2.89it/s]\n"
     ]
    },
    {
     "name": "stdout",
     "output_type": "stream",
     "text": [
      "epoch: 47 \t loss: 1820866.8547363281\n"
     ]
    },
    {
     "name": "stderr",
     "output_type": "stream",
     "text": [
      "100%|██████████| 469/469 [02:47<00:00,  2.80it/s]\n"
     ]
    },
    {
     "name": "stdout",
     "output_type": "stream",
     "text": [
      "epoch: 48 \t loss: 1810149.2658691406\n"
     ]
    },
    {
     "name": "stderr",
     "output_type": "stream",
     "text": [
      "100%|██████████| 469/469 [02:46<00:00,  2.81it/s]\n"
     ]
    },
    {
     "name": "stdout",
     "output_type": "stream",
     "text": [
      "epoch: 49 \t loss: 1820407.0625\n"
     ]
    },
    {
     "name": "stderr",
     "output_type": "stream",
     "text": [
      "100%|██████████| 469/469 [02:47<00:00,  2.80it/s]\n",
      "/Users/stefano.damato/anaconda3/envs/dabf/lib/python3.11/site-packages/torch/optim/lr_scheduler.py:156: UserWarning: The epoch parameter in `scheduler.step()` was not necessary and is being deprecated where possible. Please use `scheduler.step()` to step the scheduler. During the deprecation, if epoch is different from None, the closed form is used instead of the new chainable form, where available. Please open an issue if you are unable to replicate your use case: https://github.com/pytorch/pytorch/issues/new/choose.\n",
      "  warnings.warn(EPOCH_DEPRECATION_WARNING, UserWarning)\n"
     ]
    },
    {
     "name": "stdout",
     "output_type": "stream",
     "text": [
      "epoch: 50 \t loss: 1808181.1015625\n"
     ]
    },
    {
     "name": "stderr",
     "output_type": "stream",
     "text": [
      "100%|██████████| 469/469 [02:41<00:00,  2.90it/s]\n"
     ]
    },
    {
     "name": "stdout",
     "output_type": "stream",
     "text": [
      "epoch: 51 \t loss: 1791816.2197265625\n"
     ]
    },
    {
     "name": "stderr",
     "output_type": "stream",
     "text": [
      "100%|██████████| 469/469 [02:41<00:00,  2.91it/s]\n"
     ]
    },
    {
     "name": "stdout",
     "output_type": "stream",
     "text": [
      "epoch: 52 \t loss: 1803355.2084960938\n"
     ]
    },
    {
     "name": "stderr",
     "output_type": "stream",
     "text": [
      "100%|██████████| 469/469 [02:48<00:00,  2.78it/s]\n"
     ]
    },
    {
     "name": "stdout",
     "output_type": "stream",
     "text": [
      "epoch: 53 \t loss: 1817135.638671875\n"
     ]
    },
    {
     "name": "stderr",
     "output_type": "stream",
     "text": [
      "100%|██████████| 469/469 [02:43<00:00,  2.87it/s]\n"
     ]
    },
    {
     "name": "stdout",
     "output_type": "stream",
     "text": [
      "epoch: 54 \t loss: 1802467.4584960938\n"
     ]
    },
    {
     "name": "stderr",
     "output_type": "stream",
     "text": [
      "100%|██████████| 469/469 [02:40<00:00,  2.92it/s]\n"
     ]
    },
    {
     "name": "stdout",
     "output_type": "stream",
     "text": [
      "epoch: 55 \t loss: 1805744.6779785156\n"
     ]
    },
    {
     "name": "stderr",
     "output_type": "stream",
     "text": [
      "100%|██████████| 469/469 [08:16<00:00,  1.06s/it]\n"
     ]
    },
    {
     "name": "stdout",
     "output_type": "stream",
     "text": [
      "epoch: 56 \t loss: 1805758.8483886719\n"
     ]
    },
    {
     "name": "stderr",
     "output_type": "stream",
     "text": [
      " 54%|█████▍    | 254/469 [15:22<13:46,  3.84s/it]"
     ]
    }
   ],
   "source": [
    "diff = Diffusion(T = 100, S = 28, betas = torch.linspace(1e-04, 2e-02, 100), UNet_dim=32)\n",
    "\n",
    "optimizer = torch.optim.Adam(diff.UNet.parameters(), lr = 1e-03)\n",
    "scheduler = torch.optim.lr_scheduler.SequentialLR(optimizer, [\n",
    "    torch.optim.lr_scheduler.CosineAnnealingLR(optimizer, 50, 1e-04),\n",
    "    torch.optim.lr_scheduler.LinearLR(optimizer, .1, .01, 50)], [50])\n",
    "\n",
    "diff.train(100, optimizer, scheduler)"
   ]
  },
  {
   "cell_type": "code",
   "execution_count": null,
   "metadata": {},
   "outputs": [
    {
     "data": {
      "text/plain": [
       "'UNet_dim16_2024-07-04-12-28.pth'"
      ]
     },
     "execution_count": 24,
     "metadata": {},
     "output_type": "execute_result"
    }
   ],
   "source": [
    "\n",
    "from datetime import datetime\n",
    "\n",
    "dt = datetime.now().strftime(\"%Y-%m-%d-%H-%M\")\n",
    "dt\n",
    "\n",
    "model_name = '_'.join(['UNet', 'dim'+str(eps_theta.dim), dt]) + '.pth'\n",
    "model_name"
   ]
  },
  {
   "cell_type": "code",
   "execution_count": null,
   "metadata": {},
   "outputs": [
    {
     "data": {
      "text/plain": [
       "('..', '../models/UNet_dim16_2024-07-04-12-28.pth')"
      ]
     },
     "execution_count": 27,
     "metadata": {},
     "output_type": "execute_result"
    }
   ],
   "source": [
    "import os\n",
    "\n",
    "os.path.pardir, os.path.join(os.path.pardir, 'models', model_name)\n"
   ]
  },
  {
   "cell_type": "code",
   "execution_count": null,
   "metadata": {},
   "outputs": [],
   "source": [
    "torch.save(diff.UNet.state_dict(), os.path.join(os.path.pardir, 'models', model_name))"
   ]
  },
  {
   "cell_type": "code",
   "execution_count": null,
   "metadata": {},
   "outputs": [
    {
     "data": {
      "text/plain": [
       "tensor([[-0.2205, -0.2074, -0.2281,  ..., -0.4939, -0.6606, -0.2222],\n",
       "        [-0.5510,  0.4435,  0.8957,  ..., -0.1441,  0.0014,  0.1535],\n",
       "        [-0.0236,  0.4118, -0.5435,  ...,  0.2025, -0.4637, -0.2617],\n",
       "        ...,\n",
       "        [-0.6462, -0.1609, -0.9810,  ..., -0.8971,  0.6637,  0.0587],\n",
       "        [-0.7763,  0.4799,  0.4919,  ..., -0.4495,  0.4826, -0.5854],\n",
       "        [ 0.7965, -0.0060,  0.7209,  ..., -0.1298,  0.3027,  0.4686]],\n",
       "       device='mps:0')"
      ]
     },
     "execution_count": 66,
     "metadata": {},
     "output_type": "execute_result"
    }
   ],
   "source": [
    "\n",
    "eps_theta\n",
    "\n",
    "eps_theta.eval()\n",
    "B = 10\n",
    "\n",
    "xT = diff.sample_eps(torch.Size([B*L**2])).reshape((B,1,L,L))\n",
    "\n",
    "xt = xT\n",
    "\n",
    "\n",
    "for t in reversed(range(diff.T)):\n",
    "    z = diff.sample_eps(torch.Size([B*L**2])).reshape((B,1,L,L)) if t>1 else 0\n",
    "\n",
    "    alpha, alpha_hat, sigma = diff.alphas[t], diff.alphas_hat[t], diff.sigmas[t]\n",
    "\n",
    "    #print(torch.arange(10, device=dvc).device, torch.tensor([t], device=dvc).repeat(B).device)\n",
    "\n",
    "    eps_pred = eps_theta(xt, torch.arange(10, device=dvc), torch.tensor([t], device=dvc).repeat(B))\n",
    "\n",
    "    xt = (xt - eps_pred*(1-alpha)/torch.sqrt(1-alpha_hat))/torch.sqrt(alpha) + 0.02*z \n",
    "\n",
    "x0 = xt\n",
    "\n",
    "torch.cat(([x[i,0,:,:] for i in range(10)]), axis=1)"
   ]
  },
  {
   "cell_type": "code",
   "execution_count": null,
   "metadata": {},
   "outputs": [
    {
     "data": {
      "text/plain": [
       "<matplotlib.image.AxesImage at 0x62f62cd90>"
      ]
     },
     "execution_count": 67,
     "metadata": {},
     "output_type": "execute_result"
    },
    {
     "data": {
      "image/png": "[encoded data removed]",
      "text/plain": [
       "<Figure size 640x480 with 1 Axes>"
      ]
     },
     "metadata": {},
     "output_type": "display_data"
    }
   ],
   "source": []
  },
  {
   "cell_type": "code",
   "execution_count": null,
   "metadata": {},
   "outputs": [],
   "source": [
    "eps_theta\n",
    "\n",
    "eps_theta.eval()\n",
    "\n",
    "n = 5\n",
    "\n",
    "xT = diff.sample_eps(torch.Size([1*L**2])).reshape((1,1,L,L))\n",
    "\n",
    "denoising = []\n",
    "\n",
    "\n",
    "for t in reversed(range(diff.T)):\n",
    "\n",
    "    z = diff.sample_eps(torch.Size([B*L**2])).reshape((B,1,L,L)) if t>1 else 0\n",
    "\n",
    "    alpha, alpha_hat, sigma = diff.alphas[t], diff.alphas_hat[t], diff.sigmas[t]\n",
    "\n",
    "    #print(torch.arange(10, device=dvc).device, torch.tensor([t], device=dvc).repeat(B).device)\n",
    "\n",
    "    eps_pred = eps_theta(xt, torch.tensor(([n]), device=dvc), torch.tensor([t], device=dvc))\n",
    "\n",
    "    xt = (xt - eps_pred*(1-alpha)/torch.sqrt(1-alpha_hat))/torch.sqrt(alpha) + (0.05*z if t > 0 else 0.)\n",
    "\n",
    "    if t%10 == 0:\n",
    "        denoising.append(xt.detach())\n",
    "\n",
    "x0 = xt"
   ]
  },
  {
   "cell_type": "code",
   "execution_count": null,
   "metadata": {},
   "outputs": [],
   "source": [
    "def scale01(x):\n",
    "    m, M = torch.min(x, axis=1)[0], torch.max(x, axis=1)[0]\n",
    "    return (x-m)/(M-m)\n",
    "\n",
    "\n",
    "def plotseq(imgs : list, scale = False):\n",
    "    if type(scale) == bool:\n",
    "        if scale:\n",
    "            imgs = [scale01(x) for x in imgs]\n",
    "    elif type(scale) == list:\n",
    "        for i in range(len(imgs)):\n",
    "            x[i] = scale01(x[i]) if scale[i] == True else x[i]\n",
    "    else:\n",
    "        raise ValueError\n",
    "\n",
    "    return plt.imshow(torch.cat(imgs, axis=1), cmap='grey')"
   ]
  },
  {
   "cell_type": "code",
   "execution_count": null,
   "metadata": {},
   "outputs": [
    {
     "ename": "RuntimeError",
     "evalue": "Can't call numpy() on Tensor that requires grad. Use tensor.detach().numpy() instead.",
     "output_type": "error",
     "traceback": [
      "\u001b[0;31m---------------------------------------------------------------------------\u001b[0m",
      "\u001b[0;31mRuntimeError\u001b[0m                              Traceback (most recent call last)",
      "\u001b[1;32m/Users/stefano.damato/Codebase/DaBF/src/dev.ipynb Cell 13\u001b[0m line \u001b[0;36m1\n\u001b[0;32m----> <a href='vscode-notebook-cell:/Users/stefano.damato/Codebase/DaBF/src/dev.ipynb#X30sZmlsZQ%3D%3D?line=0'>1</a>\u001b[0m plt\u001b[39m.\u001b[39;49mimshow(torch\u001b[39m.\u001b[39;49mcat([x0[i,\u001b[39m0\u001b[39;49m,:,:] \u001b[39mfor\u001b[39;49;00m i \u001b[39min\u001b[39;49;00m \u001b[39mrange\u001b[39;49m(\u001b[39m10\u001b[39;49m)], axis\u001b[39m=\u001b[39;49m\u001b[39m1\u001b[39;49m))\u001b[39m.\u001b[39mdetach()\n",
      "File \u001b[0;32m~/anaconda3/envs/dabf/lib/python3.11/site-packages/matplotlib/pyplot.py:3476\u001b[0m, in \u001b[0;36mimshow\u001b[0;34m(X, cmap, norm, aspect, interpolation, alpha, vmin, vmax, origin, extent, interpolation_stage, filternorm, filterrad, resample, url, data, **kwargs)\u001b[0m\n\u001b[1;32m   3455\u001b[0m \u001b[39m@_copy_docstring_and_deprecators\u001b[39m(Axes\u001b[39m.\u001b[39mimshow)\n\u001b[1;32m   3456\u001b[0m \u001b[39mdef\u001b[39;00m \u001b[39mimshow\u001b[39m(\n\u001b[1;32m   3457\u001b[0m     X: ArrayLike \u001b[39m|\u001b[39m PIL\u001b[39m.\u001b[39mImage\u001b[39m.\u001b[39mImage,\n\u001b[0;32m   (...)\u001b[0m\n\u001b[1;32m   3474\u001b[0m     \u001b[39m*\u001b[39m\u001b[39m*\u001b[39mkwargs,\n\u001b[1;32m   3475\u001b[0m ) \u001b[39m-\u001b[39m\u001b[39m>\u001b[39m AxesImage:\n\u001b[0;32m-> 3476\u001b[0m     __ret \u001b[39m=\u001b[39m gca()\u001b[39m.\u001b[39;49mimshow(\n\u001b[1;32m   3477\u001b[0m         X,\n\u001b[1;32m   3478\u001b[0m         cmap\u001b[39m=\u001b[39;49mcmap,\n\u001b[1;32m   3479\u001b[0m         norm\u001b[39m=\u001b[39;49mnorm,\n\u001b[1;32m   3480\u001b[0m         aspect\u001b[39m=\u001b[39;49maspect,\n\u001b[1;32m   3481\u001b[0m         interpolation\u001b[39m=\u001b[39;49minterpolation,\n\u001b[1;32m   3482\u001b[0m         alpha\u001b[39m=\u001b[39;49malpha,\n\u001b[1;32m   3483\u001b[0m         vmin\u001b[39m=\u001b[39;49mvmin,\n\u001b[1;32m   3484\u001b[0m         vmax\u001b[39m=\u001b[39;49mvmax,\n\u001b[1;32m   3485\u001b[0m         origin\u001b[39m=\u001b[39;49morigin,\n\u001b[1;32m   3486\u001b[0m         extent\u001b[39m=\u001b[39;49mextent,\n\u001b[1;32m   3487\u001b[0m         interpolation_stage\u001b[39m=\u001b[39;49minterpolation_stage,\n\u001b[1;32m   3488\u001b[0m         filternorm\u001b[39m=\u001b[39;49mfilternorm,\n\u001b[1;32m   3489\u001b[0m         filterrad\u001b[39m=\u001b[39;49mfilterrad,\n\u001b[1;32m   3490\u001b[0m         resample\u001b[39m=\u001b[39;49mresample,\n\u001b[1;32m   3491\u001b[0m         url\u001b[39m=\u001b[39;49murl,\n\u001b[1;32m   3492\u001b[0m         \u001b[39m*\u001b[39;49m\u001b[39m*\u001b[39;49m({\u001b[39m\"\u001b[39;49m\u001b[39mdata\u001b[39;49m\u001b[39m\"\u001b[39;49m: data} \u001b[39mif\u001b[39;49;00m data \u001b[39mis\u001b[39;49;00m \u001b[39mnot\u001b[39;49;00m \u001b[39mNone\u001b[39;49;00m \u001b[39melse\u001b[39;49;00m {}),\n\u001b[1;32m   3493\u001b[0m         \u001b[39m*\u001b[39;49m\u001b[39m*\u001b[39;49mkwargs,\n\u001b[1;32m   3494\u001b[0m     )\n\u001b[1;32m   3495\u001b[0m     sci(__ret)\n\u001b[1;32m   3496\u001b[0m     \u001b[39mreturn\u001b[39;00m __ret\n",
      "File \u001b[0;32m~/anaconda3/envs/dabf/lib/python3.11/site-packages/matplotlib/__init__.py:1473\u001b[0m, in \u001b[0;36m_preprocess_data.<locals>.inner\u001b[0;34m(ax, data, *args, **kwargs)\u001b[0m\n\u001b[1;32m   1470\u001b[0m \u001b[39m@functools\u001b[39m\u001b[39m.\u001b[39mwraps(func)\n\u001b[1;32m   1471\u001b[0m \u001b[39mdef\u001b[39;00m \u001b[39minner\u001b[39m(ax, \u001b[39m*\u001b[39margs, data\u001b[39m=\u001b[39m\u001b[39mNone\u001b[39;00m, \u001b[39m*\u001b[39m\u001b[39m*\u001b[39mkwargs):\n\u001b[1;32m   1472\u001b[0m     \u001b[39mif\u001b[39;00m data \u001b[39mis\u001b[39;00m \u001b[39mNone\u001b[39;00m:\n\u001b[0;32m-> 1473\u001b[0m         \u001b[39mreturn\u001b[39;00m func(\n\u001b[1;32m   1474\u001b[0m             ax,\n\u001b[1;32m   1475\u001b[0m             \u001b[39m*\u001b[39;49m\u001b[39mmap\u001b[39;49m(sanitize_sequence, args),\n\u001b[1;32m   1476\u001b[0m             \u001b[39m*\u001b[39;49m\u001b[39m*\u001b[39;49m{k: sanitize_sequence(v) \u001b[39mfor\u001b[39;49;00m k, v \u001b[39min\u001b[39;49;00m kwargs\u001b[39m.\u001b[39;49mitems()})\n\u001b[1;32m   1478\u001b[0m     bound \u001b[39m=\u001b[39m new_sig\u001b[39m.\u001b[39mbind(ax, \u001b[39m*\u001b[39margs, \u001b[39m*\u001b[39m\u001b[39m*\u001b[39mkwargs)\n\u001b[1;32m   1479\u001b[0m     auto_label \u001b[39m=\u001b[39m (bound\u001b[39m.\u001b[39marguments\u001b[39m.\u001b[39mget(label_namer)\n\u001b[1;32m   1480\u001b[0m                   \u001b[39mor\u001b[39;00m bound\u001b[39m.\u001b[39mkwargs\u001b[39m.\u001b[39mget(label_namer))\n",
      "File \u001b[0;32m~/anaconda3/envs/dabf/lib/python3.11/site-packages/matplotlib/axes/_axes.py:5895\u001b[0m, in \u001b[0;36mAxes.imshow\u001b[0;34m(self, X, cmap, norm, aspect, interpolation, alpha, vmin, vmax, origin, extent, interpolation_stage, filternorm, filterrad, resample, url, **kwargs)\u001b[0m\n\u001b[1;32m   5892\u001b[0m \u001b[39mif\u001b[39;00m aspect \u001b[39mis\u001b[39;00m \u001b[39mnot\u001b[39;00m \u001b[39mNone\u001b[39;00m:\n\u001b[1;32m   5893\u001b[0m     \u001b[39mself\u001b[39m\u001b[39m.\u001b[39mset_aspect(aspect)\n\u001b[0;32m-> 5895\u001b[0m im\u001b[39m.\u001b[39;49mset_data(X)\n\u001b[1;32m   5896\u001b[0m im\u001b[39m.\u001b[39mset_alpha(alpha)\n\u001b[1;32m   5897\u001b[0m \u001b[39mif\u001b[39;00m im\u001b[39m.\u001b[39mget_clip_path() \u001b[39mis\u001b[39;00m \u001b[39mNone\u001b[39;00m:\n\u001b[1;32m   5898\u001b[0m     \u001b[39m# image does not already have clipping set, clip to Axes patch\u001b[39;00m\n",
      "File \u001b[0;32m~/anaconda3/envs/dabf/lib/python3.11/site-packages/matplotlib/image.py:729\u001b[0m, in \u001b[0;36m_ImageBase.set_data\u001b[0;34m(self, A)\u001b[0m\n\u001b[1;32m    727\u001b[0m \u001b[39mif\u001b[39;00m \u001b[39misinstance\u001b[39m(A, PIL\u001b[39m.\u001b[39mImage\u001b[39m.\u001b[39mImage):\n\u001b[1;32m    728\u001b[0m     A \u001b[39m=\u001b[39m pil_to_array(A)  \u001b[39m# Needed e.g. to apply png palette.\u001b[39;00m\n\u001b[0;32m--> 729\u001b[0m \u001b[39mself\u001b[39m\u001b[39m.\u001b[39m_A \u001b[39m=\u001b[39m \u001b[39mself\u001b[39;49m\u001b[39m.\u001b[39;49m_normalize_image_array(A)\n\u001b[1;32m    730\u001b[0m \u001b[39mself\u001b[39m\u001b[39m.\u001b[39m_imcache \u001b[39m=\u001b[39m \u001b[39mNone\u001b[39;00m\n\u001b[1;32m    731\u001b[0m \u001b[39mself\u001b[39m\u001b[39m.\u001b[39mstale \u001b[39m=\u001b[39m \u001b[39mTrue\u001b[39;00m\n",
      "File \u001b[0;32m~/anaconda3/envs/dabf/lib/python3.11/site-packages/matplotlib/image.py:690\u001b[0m, in \u001b[0;36m_ImageBase._normalize_image_array\u001b[0;34m(A)\u001b[0m\n\u001b[1;32m    684\u001b[0m \u001b[39m@staticmethod\u001b[39m\n\u001b[1;32m    685\u001b[0m \u001b[39mdef\u001b[39;00m \u001b[39m_normalize_image_array\u001b[39m(A):\n\u001b[1;32m    686\u001b[0m \u001b[39m    \u001b[39m\u001b[39m\"\"\"\u001b[39;00m\n\u001b[1;32m    687\u001b[0m \u001b[39m    Check validity of image-like input *A* and normalize it to a format suitable for\u001b[39;00m\n\u001b[1;32m    688\u001b[0m \u001b[39m    Image subclasses.\u001b[39;00m\n\u001b[1;32m    689\u001b[0m \u001b[39m    \"\"\"\u001b[39;00m\n\u001b[0;32m--> 690\u001b[0m     A \u001b[39m=\u001b[39m cbook\u001b[39m.\u001b[39;49msafe_masked_invalid(A, copy\u001b[39m=\u001b[39;49m\u001b[39mTrue\u001b[39;49;00m)\n\u001b[1;32m    691\u001b[0m     \u001b[39mif\u001b[39;00m A\u001b[39m.\u001b[39mdtype \u001b[39m!=\u001b[39m np\u001b[39m.\u001b[39muint8 \u001b[39mand\u001b[39;00m \u001b[39mnot\u001b[39;00m np\u001b[39m.\u001b[39mcan_cast(A\u001b[39m.\u001b[39mdtype, \u001b[39mfloat\u001b[39m, \u001b[39m\"\u001b[39m\u001b[39msame_kind\u001b[39m\u001b[39m\"\u001b[39m):\n\u001b[1;32m    692\u001b[0m         \u001b[39mraise\u001b[39;00m \u001b[39mTypeError\u001b[39;00m(\u001b[39mf\u001b[39m\u001b[39m\"\u001b[39m\u001b[39mImage data of dtype \u001b[39m\u001b[39m{\u001b[39;00mA\u001b[39m.\u001b[39mdtype\u001b[39m}\u001b[39;00m\u001b[39m cannot be \u001b[39m\u001b[39m\"\u001b[39m\n\u001b[1;32m    693\u001b[0m                         \u001b[39mf\u001b[39m\u001b[39m\"\u001b[39m\u001b[39mconverted to float\u001b[39m\u001b[39m\"\u001b[39m)\n",
      "File \u001b[0;32m~/anaconda3/envs/dabf/lib/python3.11/site-packages/matplotlib/cbook.py:733\u001b[0m, in \u001b[0;36msafe_masked_invalid\u001b[0;34m(x, copy)\u001b[0m\n\u001b[1;32m    732\u001b[0m \u001b[39mdef\u001b[39;00m \u001b[39msafe_masked_invalid\u001b[39m(x, copy\u001b[39m=\u001b[39m\u001b[39mFalse\u001b[39;00m):\n\u001b[0;32m--> 733\u001b[0m     x \u001b[39m=\u001b[39m np\u001b[39m.\u001b[39marray(x, subok\u001b[39m=\u001b[39m\u001b[39mTrue\u001b[39;00m, copy\u001b[39m=\u001b[39mcopy)\n\u001b[1;32m    734\u001b[0m     \u001b[39mif\u001b[39;00m \u001b[39mnot\u001b[39;00m x\u001b[39m.\u001b[39mdtype\u001b[39m.\u001b[39misnative:\n\u001b[1;32m    735\u001b[0m         \u001b[39m# If we have already made a copy, do the byteswap in place, else make a\u001b[39;00m\n\u001b[1;32m    736\u001b[0m         \u001b[39m# copy with the byte order swapped.\u001b[39;00m\n\u001b[1;32m    737\u001b[0m         \u001b[39m# Swap to native order.\u001b[39;00m\n\u001b[1;32m    738\u001b[0m         x \u001b[39m=\u001b[39m x\u001b[39m.\u001b[39mbyteswap(inplace\u001b[39m=\u001b[39mcopy)\u001b[39m.\u001b[39mview(x\u001b[39m.\u001b[39mdtype\u001b[39m.\u001b[39mnewbyteorder(\u001b[39m'\u001b[39m\u001b[39mN\u001b[39m\u001b[39m'\u001b[39m))\n",
      "File \u001b[0;32m~/anaconda3/envs/dabf/lib/python3.11/site-packages/torch/_tensor.py:1087\u001b[0m, in \u001b[0;36mTensor.__array__\u001b[0;34m(self, dtype)\u001b[0m\n\u001b[1;32m   1085\u001b[0m     \u001b[39mreturn\u001b[39;00m handle_torch_function(Tensor\u001b[39m.\u001b[39m__array__, (\u001b[39mself\u001b[39m,), \u001b[39mself\u001b[39m, dtype\u001b[39m=\u001b[39mdtype)\n\u001b[1;32m   1086\u001b[0m \u001b[39mif\u001b[39;00m dtype \u001b[39mis\u001b[39;00m \u001b[39mNone\u001b[39;00m:\n\u001b[0;32m-> 1087\u001b[0m     \u001b[39mreturn\u001b[39;00m \u001b[39mself\u001b[39;49m\u001b[39m.\u001b[39;49mnumpy()\n\u001b[1;32m   1088\u001b[0m \u001b[39melse\u001b[39;00m:\n\u001b[1;32m   1089\u001b[0m     \u001b[39mreturn\u001b[39;00m \u001b[39mself\u001b[39m\u001b[39m.\u001b[39mnumpy()\u001b[39m.\u001b[39mastype(dtype, copy\u001b[39m=\u001b[39m\u001b[39mFalse\u001b[39;00m)\n",
      "\u001b[0;31mRuntimeError\u001b[0m: Can't call numpy() on Tensor that requires grad. Use tensor.detach().numpy() instead."
     ]
    },
    {
     "data": {
      "image/png": "[encoded data removed]",
      "text/plain": [
       "<Figure size 640x480 with 1 Axes>"
      ]
     },
     "metadata": {},
     "output_type": "display_data"
    }
   ],
   "source": [
    "plt.imshow(torch.cat([x0[i,0,:,:] for i in range(10)], axis=1))"
   ]
  },
  {
   "cell_type": "code",
   "execution_count": null,
   "metadata": {},
   "outputs": [],
   "source": [
    "i = 8\n",
    "plt.imshow(torch.cat((scale01(xT[i,0]),x0[i,0]), axis=1).detach().numpy())"
   ]
  },
  {
   "cell_type": "code",
   "execution_count": null,
   "metadata": {},
   "outputs": [
    {
     "name": "stdout",
     "output_type": "stream",
     "text": [
      "[0.001]\n",
      "[0.0009997779521645793]\n",
      "[0.0009991120277927223]\n",
      "[0.000998002884071386]\n",
      "[0.000996451615591515]\n",
      "[0.000994459753267812]\n",
      "[0.0009920292628279098]\n",
      "[0.000989162542872436]\n",
      "[0.0009858624225078836]\n",
      "[0.000982132158554624]\n",
      "[0.0009779754323328187]\n",
      "[0.0009733963460294011]\n",
      "[0.0009683994186497127]\n",
      "[0.000962989581557791]\n",
      "[0.0009571721736097084]\n",
      "[0.0009509529358847651]\n",
      "[0.0009443380060197382]\n",
      "[0.0009373339121517743]\n",
      "[0.0009299475664759064]\n",
      "[0.0009221862584235525]\n",
      "[0.000914057647468726]\n",
      "[0.0009055697555690603]\n",
      "[0.0008967309592491047]\n",
      "[0.0008875499813337064]\n",
      "[0.0008780358823396348]\n",
      "[0.000868198051533946]\n",
      "[0.0008580461976679096]\n",
      "[0.000847590339395643]\n",
      "[0.0008368407953869101]\n",
      "[0.0008258081741438392]\n",
      "[0.0008145033635316127]\n",
      "[0.0008029375200334586]\n",
      "[0.0007911220577405481]\n",
      "[0.0007790686370876667]\n",
      "[0.0007667891533457716]\n",
      "[0.0007542957248827957]\n",
      "[0.0007416006812042824]\n",
      "[0.0007287165507856509]\n",
      "[0.0007156560487081049]\n",
      "[0.0007024320641103809]\n",
      "[0.0006890576474687261]\n",
      "[0.0006755459977176529]\n",
      "[0.0006619104492241843]\n",
      "[0.0006481644586284439]\n",
      "[0.0006343215915635759]\n",
      "[0.0006203955092681036]\n",
      "[0.0006063999551039368]\n",
      "[0.0005923487409933312]\n",
      "[0.0005782557337881908]\n",
      "[0.0005641348415851575]\n",
      "[0.0005499999999999997]\n",
      "[0.000535865158414842]\n",
      "[0.0005217442662118087]\n",
      "[0.0005076512590066682]\n",
      "[0.0004936000448960629]\n",
      "[0.00047960449073189583]\n",
      "[0.00046567840843642365]\n",
      "[0.0004518355413715557]\n",
      "[0.00043808955077581505]\n",
      "[0.0004244540022823466]\n",
      "[0.00041094235253127357]\n",
      "[0.00039756793588961866]\n",
      "[0.00038434395129189486]\n",
      "[0.0003712834492143485]\n",
      "[0.0003583993187957171]\n",
      "[0.00034570427511720377]\n",
      "[0.00033321084665422786]\n",
      "[0.0003209313629123327]\n",
      "[0.00030887794225945123]\n",
      "[0.000297062479966541]\n",
      "[0.000285496636468387]\n",
      "[0.0002741918258561604]\n",
      "[0.0002631592046130895]\n",
      "[0.00025240966060435663]\n",
      "[0.00024195380233208997]\n",
      "[0.0002318019484660536]\n",
      "[0.00022196411766036485]\n",
      "[0.00021245001866629313]\n",
      "[0.00020326904075089485]\n",
      "[0.0001944302444309393]\n",
      "[0.00018594235253127368]\n",
      "[0.0001778137415764472]\n",
      "[0.00017005243352409327]\n",
      "[0.00016266608784822528]\n",
      "[0.00015566199398026135]\n",
      "[0.00014904706411523447]\n",
      "[0.00014282782639029126]\n",
      "[0.00013701041844220855]\n",
      "[0.00013160058135028687]\n",
      "[0.00012660365397059852]\n",
      "[0.00012202456766718089]\n",
      "[0.00011786784144537566]\n",
      "[0.00011413757749211605]\n",
      "[0.00011083745712756369]\n",
      "[0.00010797073717209007]\n",
      "[0.00010554024673218805]\n",
      "[0.000103548384408485]\n",
      "[0.000101997115928614]\n",
      "[0.0001008879722072778]\n",
      "[0.00010022204783542078]\n",
      "[0.0001]\n",
      "[9.95e-05]\n",
      "[9.900000000000001e-05]\n",
      "[9.850000000000001e-05]\n",
      "[9.800000000000001e-05]\n",
      "[9.750000000000001e-05]\n",
      "[9.700000000000001e-05]\n",
      "[9.650000000000001e-05]\n",
      "[9.600000000000002e-05]\n",
      "[9.550000000000002e-05]\n",
      "[9.500000000000002e-05]\n",
      "[9.450000000000002e-05]\n",
      "[9.400000000000002e-05]\n",
      "[9.350000000000002e-05]\n",
      "[9.300000000000002e-05]\n",
      "[9.250000000000003e-05]\n",
      "[9.200000000000003e-05]\n",
      "[9.150000000000003e-05]\n",
      "[9.100000000000003e-05]\n",
      "[9.050000000000003e-05]\n",
      "[9.000000000000003e-05]\n",
      "[8.950000000000003e-05]\n",
      "[8.900000000000004e-05]\n",
      "[8.850000000000004e-05]\n",
      "[8.800000000000004e-05]\n",
      "[8.750000000000004e-05]\n",
      "[8.700000000000004e-05]\n",
      "[8.650000000000004e-05]\n",
      "[8.600000000000004e-05]\n",
      "[8.550000000000005e-05]\n",
      "[8.500000000000005e-05]\n",
      "[8.450000000000005e-05]\n",
      "[8.400000000000005e-05]\n",
      "[8.350000000000005e-05]\n",
      "[8.300000000000005e-05]\n",
      "[8.250000000000005e-05]\n",
      "[8.200000000000006e-05]\n",
      "[8.150000000000006e-05]\n",
      "[8.100000000000006e-05]\n",
      "[8.050000000000006e-05]\n",
      "[8.000000000000006e-05]\n",
      "[7.950000000000006e-05]\n",
      "[7.900000000000006e-05]\n",
      "[7.850000000000006e-05]\n",
      "[7.800000000000007e-05]\n",
      "[7.750000000000007e-05]\n",
      "[7.700000000000007e-05]\n",
      "[7.650000000000007e-05]\n",
      "[7.600000000000007e-05]\n",
      "[7.550000000000007e-05]\n",
      "[7.500000000000007e-05]\n",
      "[7.450000000000008e-05]\n",
      "[7.400000000000008e-05]\n",
      "[7.350000000000008e-05]\n",
      "[7.300000000000008e-05]\n",
      "[7.250000000000008e-05]\n",
      "[7.200000000000008e-05]\n",
      "[7.150000000000008e-05]\n",
      "[7.100000000000009e-05]\n",
      "[7.050000000000009e-05]\n",
      "[7.000000000000009e-05]\n",
      "[6.950000000000009e-05]\n",
      "[6.900000000000009e-05]\n",
      "[6.850000000000009e-05]\n",
      "[6.80000000000001e-05]\n",
      "[6.75000000000001e-05]\n",
      "[6.70000000000001e-05]\n",
      "[6.65000000000001e-05]\n",
      "[6.60000000000001e-05]\n",
      "[6.55000000000001e-05]\n",
      "[6.50000000000001e-05]\n",
      "[6.45000000000001e-05]\n",
      "[6.40000000000001e-05]\n",
      "[6.350000000000011e-05]\n",
      "[6.300000000000011e-05]\n",
      "[6.250000000000011e-05]\n",
      "[6.200000000000011e-05]\n",
      "[6.150000000000011e-05]\n",
      "[6.100000000000011e-05]\n",
      "[6.050000000000011e-05]\n",
      "[6.000000000000011e-05]\n",
      "[5.950000000000011e-05]\n",
      "[5.900000000000011e-05]\n",
      "[5.8500000000000114e-05]\n",
      "[5.8000000000000116e-05]\n",
      "[5.750000000000012e-05]\n",
      "[5.700000000000012e-05]\n",
      "[5.650000000000011e-05]\n",
      "[5.6000000000000114e-05]\n",
      "[5.5500000000000116e-05]\n",
      "[5.500000000000011e-05]\n",
      "[5.450000000000011e-05]\n",
      "[5.400000000000011e-05]\n",
      "[5.350000000000011e-05]\n",
      "[5.300000000000011e-05]\n",
      "[5.250000000000011e-05]\n",
      "[5.200000000000011e-05]\n",
      "[5.1500000000000113e-05]\n",
      "[5.1000000000000115e-05]\n",
      "[5.0500000000000116e-05]\n"
     ]
    },
    {
     "data": {
      "text/plain": [
       "[<matplotlib.lines.Line2D at 0x14508b550>]"
      ]
     },
     "execution_count": 22,
     "metadata": {},
     "output_type": "execute_result"
    },
    {
     "data": {
      "image/png": "[encoded data removed]",
      "text/plain": [
       "<Figure size 640x480 with 1 Axes>"
      ]
     },
     "metadata": {},
     "output_type": "display_data"
    }
   ],
   "source": [
    "optimizer = torch.optim.Adam(eps_theta.parameters(), lr = 1e-03)\n",
    "\n",
    "#scheduler = torch.optim.lr_scheduler.LinearLR(optimizer, 1e-02, 1e-03, 10 )\n",
    "#scheduler = torch.optim.lr_scheduler.ExponentialLR(optimizer, .9)\n",
    "scheduler = torch.optim.lr_scheduler.SequentialLR(optimizer, [\n",
    "    torch.optim.lr_scheduler.CosineAnnealingLR(optimizer, 100, 1e-04),\n",
    "    torch.optim.lr_scheduler.LinearLR(optimizer, .1, .05, 100)], [100])\n",
    "#scheduler = torch.optim.lr_scheduler.CosineAnnealingLR(optimizer, 100, 1e-03)\n",
    "rates =[]\n",
    "\n",
    "for epoch in range(200):\n",
    "    rates.append(scheduler.get_last_lr())\n",
    "    optimizer.step()\n",
    "    print(rates[-1])\n",
    "    scheduler.step()\n",
    "\n",
    "plt.plot(rates)\n"
   ]
  },
  {
   "cell_type": "code",
   "execution_count": null,
   "metadata": {},
   "outputs": [],
   "source": []
  },
  {
   "cell_type": "code",
   "execution_count": null,
   "metadata": {},
   "outputs": [
    {
     "data": {
      "text/plain": [
       "True"
      ]
     },
     "execution_count": 10,
     "metadata": {},
     "output_type": "execute_result"
    }
   ],
   "source": [
    "class SelfAttention(nn.Module):\n",
    "    def __init__(self, in_channel, n_head=1):\n",
    "        super().__init__()\n",
    "\n",
    "        self.n_head = n_head\n",
    "\n",
    "        self.norm = nn.GroupNorm(32, in_channel)\n",
    "        self.qkv = conv2d(in_channel, in_channel * 3, 1)\n",
    "        self.out = conv2d(in_channel, in_channel, 1, scale=1e-10)\n",
    "\n",
    "    def forward(self, input):\n",
    "        batch, channel, height, width = input.shape\n",
    "        n_head = self.n_head\n",
    "        head_dim = channel // n_head\n",
    "\n",
    "        norm = self.norm(input)\n",
    "        qkv = self.qkv(norm).view(batch, n_head, head_dim * 3, height, width)\n",
    "        query, key, value = qkv.chunk(3, dim=2)  # bhdyx\n",
    "\n",
    "        attn = torch.einsum(\n",
    "            \"bnchw, bncyx -> bnhwyx\", query, key\n",
    "        ).contiguous() / math.sqrt(channel)\n",
    "        attn = attn.view(batch, n_head, height, width, -1)\n",
    "        attn = torch.softmax(attn, -1)\n",
    "        attn = attn.view(batch, n_head, height, width, height, width)\n",
    "\n",
    "        out = torch.einsum(\"bnhwyx, bncyx -> bnchw\", attn, value).contiguous()\n",
    "        out = self.out(out.view(batch, channel, height, width))\n",
    "\n",
    "        return out + input"
   ]
  },
  {
   "cell_type": "code",
   "execution_count": null,
   "metadata": {},
   "outputs": [
    {
     "data": {
      "text/plain": [
       "torch.Size([17, 128, 7, 7])"
      ]
     },
     "execution_count": 47,
     "metadata": {},
     "output_type": "execute_result"
    }
   ],
   "source": [
    "class MultiHeadAttention(nn.Module):\n",
    "\n",
    "    def __init__(self, dim):\n",
    "        super().__init__()\n",
    "        self.dim = dim\n",
    "        self.mha = torch.nn.MultiheadAttention(embed_dim=dim, num_heads=4, batch_first=True)\n",
    "\n",
    "    def forward(self, x):\n",
    "\n",
    "        B, S = x.shape[0], x.shape[-1]\n",
    "        x = torch.swapaxes(x.reshape(B, self.dim, -1), 1, 2)\n",
    "        x, _ = self.mha(x,x,x)\n",
    "        return torch.swapaxes(x, 1,2).reshape((B, self.dim, -1, S))\n",
    "\n",
    "\n",
    "mha = MultiHeadAttention(128)\n",
    "\n",
    "mha(x).shape\n"
   ]
  },
  {
   "cell_type": "code",
   "execution_count": null,
   "metadata": {},
   "outputs": [
    {
     "data": {
      "text/plain": [
       "9800"
      ]
     },
     "execution_count": 12,
     "metadata": {},
     "output_type": "execute_result"
    }
   ],
   "source": [
    "mha = torch.nn.MultiheadAttention(embed_dim= 49, num_heads=1, batch_first=True)\n",
    "\n",
    "def num_params(model):\n",
    "    return sum([p.numel() for p in model.parameters()])\n",
    "\n",
    "x = torch.randn((B))"
   ]
  },
  {
   "cell_type": "code",
   "execution_count": null,
   "metadata": {},
   "outputs": [
    {
     "name": "stdout",
     "output_type": "stream",
     "text": [
      "torch.Size([17, 49, 64])\n"
     ]
    },
    {
     "ename": "RuntimeError",
     "evalue": "The size of tensor a (64) must match the size of tensor b (7) at non-singleton dimension 3",
     "output_type": "error",
     "traceback": [
      "\u001b[0;31m---------------------------------------------------------------------------\u001b[0m",
      "\u001b[0;31mRuntimeError\u001b[0m                              Traceback (most recent call last)",
      "\u001b[1;32m/Users/stefano.damato/Codebase/DaBF/src/dev.ipynb Cell 24\u001b[0m line \u001b[0;36m2\n\u001b[1;32m     <a href='vscode-notebook-cell:/Users/stefano.damato/Codebase/DaBF/src/dev.ipynb#X25sZmlsZQ%3D%3D?line=20'>21</a>\u001b[0m mha \u001b[39m=\u001b[39m MultiHeadAttention(dim\u001b[39m*\u001b[39m\u001b[39m4\u001b[39m)\n\u001b[1;32m     <a href='vscode-notebook-cell:/Users/stefano.damato/Codebase/DaBF/src/dev.ipynb#X25sZmlsZQ%3D%3D?line=23'>24</a>\u001b[0m te \u001b[39m=\u001b[39m torch\u001b[39m.\u001b[39mrandn((\u001b[39m17\u001b[39m,\u001b[39m64\u001b[39m))\n\u001b[0;32m---> <a href='vscode-notebook-cell:/Users/stefano.damato/Codebase/DaBF/src/dev.ipynb#X25sZmlsZQ%3D%3D?line=25'>26</a>\u001b[0m te \u001b[39m+\u001b[39;49m mha(x)\n",
      "\u001b[0;31mRuntimeError\u001b[0m: The size of tensor a (64) must match the size of tensor b (7) at non-singleton dimension 3"
     ]
    }
   ],
   "source": [
    "dim = 16\n",
    "\n",
    "x = torch.randn((17, dim*4, 7, 7))\n",
    "\n",
    "class MultiHeadAttention(nn.Module):\n",
    "\n",
    "    def __init__(self, dim):\n",
    "        super().__init__()\n",
    "        self.dim = dim\n",
    "        self.mha = torch.nn.MultiheadAttention(embed_dim=dim, num_heads=4, batch_first=True)\n",
    "\n",
    "    def forward(self, x):\n",
    "\n",
    "        B, S = x.shape[0], x.shape[-1]\n",
    "        x = torch.swapaxes(x.reshape(B, self.dim, -1), 1, 2)\n",
    "        print(x.shape)\n",
    "        x, _ = self.mha(x,x,x)\n",
    "        return torch.swapaxes(x, 1,2).reshape((B, self.dim, -1, S))\n",
    "    \n",
    "\n",
    "\n",
    "\n",
    "te = torch.randn((17,64))\n",
    "\n",
    "te + mha(x)"
   ]
  },
  {
   "cell_type": "code",
   "execution_count": null,
   "metadata": {},
   "outputs": [
    {
     "data": {
      "text/plain": [
       "tensor([[0, 0, 1, 0, 0, 0, 0, 0, 0, 0],\n",
       "        [0, 0, 0, 0, 0, 1, 0, 0, 0, 0]])"
      ]
     },
     "execution_count": 103,
     "metadata": {},
     "output_type": "execute_result"
    }
   ],
   "source": [
    "labels = torch.tensor([2, 5])\n",
    "\n",
    "F.one_hot(labels, 10)"
   ]
  }
 ],
 "metadata": {
  "kernelspec": {
   "display_name": "dabf",
   "language": "python",
   "name": "dabf"
  },
  "language_info": {
   "codemirror_mode": {
    "name": "ipython",
    "version": 3
   },
   "file_extension": ".py",
   "mimetype": "text/x-python",
   "name": "python",
   "nbconvert_exporter": "python",
   "pygments_lexer": "ipython3",
   "version": "3.11.0"
  }
 },
 "nbformat": 4,
 "nbformat_minor": 2
}
